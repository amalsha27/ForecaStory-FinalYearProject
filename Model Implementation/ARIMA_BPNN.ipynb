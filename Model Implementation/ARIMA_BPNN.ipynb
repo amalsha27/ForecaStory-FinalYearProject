{
 "cells": [
  {
   "cell_type": "code",
   "execution_count": 1,
   "metadata": {},
   "outputs": [],
   "source": [
    "import pandas as pd\n",
    "import numpy as np\n",
    "import seaborn as sns\n",
    "import tensorflow as tf\n",
    "import matplotlib.pyplot as plt\n",
    "from sklearn.model_selection import train_test_split\n",
    "from sklearn.preprocessing import MinMaxScaler\n",
    "from tensorflow.keras.models import Sequential\n",
    "from tensorflow.keras.layers import LSTM, Dense\n",
    "from keras.callbacks import EarlyStopping, ReduceLROnPlateau\n",
    "from sklearn.metrics import mean_absolute_error, r2_score\n",
    "from sklearn.impute import SimpleImputer\n",
    "from sklearn.preprocessing import LabelEncoder\n",
    "from sklearn.preprocessing import OneHotEncoder\n",
    "from sklearn.feature_selection import SelectKBest, chi2\n",
    "from sklearn.preprocessing import StandardScaler\n",
    "from sklearn.decomposition import PCA\n",
    "from tensorflow.keras.utils import plot_model\n",
    "from tensorflow.keras.models import load_model\n",
    "from sklearn.model_selection import GridSearchCV\n",
    "from scikeras.wrappers import KerasRegressor\n",
    "from tensorflow.keras.layers import Bidirectional"
   ]
  },
  {
   "cell_type": "markdown",
   "metadata": {},
   "source": [
    "Converting the dataset format to \"csv\" "
   ]
  },
  {
   "cell_type": "code",
   "execution_count": 2,
   "metadata": {},
   "outputs": [],
   "source": [
    "excel_file_path = '/Users/amalshar/Desktop/IIT/4th Year/FYP Implementation/Data/Apparel_Sales_Data.xlsx'\n",
    "csv_output_path = '/Users/amalshar/Desktop/IIT/4th Year/FYP Implementation/Data/Apparel_Sales_Data.csv'"
   ]
  },
  {
   "cell_type": "code",
   "execution_count": 3,
   "metadata": {},
   "outputs": [],
   "source": [
    "# Read the Excel file into a Pandas DataFrame\n",
    "initial_data = pd.read_excel(excel_file_path)\n",
    "\n",
    "# Save the DataFrame to a CSV file\n",
    "initial_data.to_csv(csv_output_path, index=False)"
   ]
  },
  {
   "cell_type": "code",
   "execution_count": 4,
   "metadata": {},
   "outputs": [],
   "source": [
    "file_path = '/Users/amalshar/Desktop/IIT/4th Year/FYP Implementation/Data/Apparel_Sales_Data.csv'\n",
    "df = pd.read_csv(file_path)"
   ]
  },
  {
   "cell_type": "code",
   "execution_count": 5,
   "metadata": {},
   "outputs": [],
   "source": [
    "df.to_csv('/Users/amalshar/Desktop/IIT/4th Year/FYP Implementation/Data/Apparel_Sales_Data.csv', index=False)"
   ]
  },
  {
   "cell_type": "markdown",
   "metadata": {},
   "source": [
    "Data Preprocessing"
   ]
  },
  {
   "cell_type": "code",
   "execution_count": 6,
   "metadata": {},
   "outputs": [],
   "source": [
    "# Load dataset\n",
    "df = pd.read_csv('/Users/amalshar/Desktop/IIT/4th Year/FYP Implementation/Data/Apparel_Sales_Data.csv')"
   ]
  },
  {
   "cell_type": "markdown",
   "metadata": {},
   "source": [
    "Data Exploration"
   ]
  },
  {
   "cell_type": "code",
   "execution_count": 7,
   "metadata": {},
   "outputs": [
    {
     "name": "stdout",
     "output_type": "stream",
     "text": [
      "<class 'pandas.core.frame.DataFrame'>\n",
      "RangeIndex: 20674 entries, 0 to 20673\n",
      "Data columns (total 32 columns):\n",
      " #   Column                    Non-Null Count  Dtype  \n",
      "---  ------                    --------------  -----  \n",
      " 0   Customer Order            20674 non-null  int64  \n",
      " 1   Dist.Chl.Name             20674 non-null  object \n",
      " 2   Material Group            20674 non-null  object \n",
      " 3   FG Type                   20674 non-null  object \n",
      " 4   FG Type Desc.             20674 non-null  object \n",
      " 5   Construction              20674 non-null  object \n",
      " 6   Fabrication               20674 non-null  object \n",
      " 7   Design Source             20674 non-null  object \n",
      " 8   Business Source           20674 non-null  object \n",
      " 9   Customer Group            20674 non-null  object \n",
      " 10  Customer                  20674 non-null  object \n",
      " 11  Gender                    20674 non-null  object \n",
      " 12  Global Style              20668 non-null  object \n",
      " 13  FG SKU                    20668 non-null  object \n",
      " 14  Cust.Color Code           20674 non-null  object \n",
      " 15  Season                    20674 non-null  object \n",
      " 16  Season Year               20674 non-null  int64  \n",
      " 17  Size                      20674 non-null  object \n",
      " 18  Order Qty                 20674 non-null  int64  \n",
      " 19  Sales Unit                20674 non-null  object \n",
      " 20  FOB                       20674 non-null  float64\n",
      " 21  Total FOB                 20674 non-null  float64\n",
      " 22  SO Doc.Currency           20674 non-null  object \n",
      " 23  Destination               20674 non-null  object \n",
      " 24  Req.Delivery Date         20674 non-null  object \n",
      " 25  RM In Date                20674 non-null  object \n",
      " 26  Planned Cut Date          20674 non-null  object \n",
      " 27  Original Ex.Factory Date  20674 non-null  object \n",
      " 28  Revised Ex.Factory Date   20674 non-null  object \n",
      " 29  Program Type              20674 non-null  object \n",
      " 30  Program Type Desc.        20674 non-null  object \n",
      " 31  Pack Qty                  20674 non-null  int64  \n",
      "dtypes: float64(2), int64(4), object(26)\n",
      "memory usage: 5.0+ MB\n"
     ]
    },
    {
     "data": {
      "text/plain": [
       "FG SKU                      6\n",
       "Global Style                6\n",
       "Customer Order              0\n",
       "Destination                 0\n",
       "Sales Unit                  0\n",
       "FOB                         0\n",
       "Total FOB                   0\n",
       "SO Doc.Currency             0\n",
       "Req.Delivery Date           0\n",
       "Size                        0\n",
       "RM In Date                  0\n",
       "Planned Cut Date            0\n",
       "Original Ex.Factory Date    0\n",
       "Revised Ex.Factory Date     0\n",
       "Program Type                0\n",
       "Program Type Desc.          0\n",
       "Order Qty                   0\n",
       "Season Year                 0\n",
       "Dist.Chl.Name               0\n",
       "Season                      0\n",
       "Cust.Color Code             0\n",
       "Gender                      0\n",
       "Customer                    0\n",
       "Customer Group              0\n",
       "Business Source             0\n",
       "Design Source               0\n",
       "Fabrication                 0\n",
       "Construction                0\n",
       "FG Type Desc.               0\n",
       "FG Type                     0\n",
       "Material Group              0\n",
       "Pack Qty                    0\n",
       "dtype: int64"
      ]
     },
     "execution_count": 7,
     "metadata": {},
     "output_type": "execute_result"
    }
   ],
   "source": [
    "# Examine data\n",
    "df.head()\n",
    "df.info()\n",
    "df.isnull().sum().sort_values(ascending=False)  "
   ]
  },
  {
   "cell_type": "code",
   "execution_count": 8,
   "metadata": {},
   "outputs": [
    {
     "data": {
      "text/html": [
       "<div>\n",
       "<style scoped>\n",
       "    .dataframe tbody tr th:only-of-type {\n",
       "        vertical-align: middle;\n",
       "    }\n",
       "\n",
       "    .dataframe tbody tr th {\n",
       "        vertical-align: top;\n",
       "    }\n",
       "\n",
       "    .dataframe thead th {\n",
       "        text-align: right;\n",
       "    }\n",
       "</style>\n",
       "<table border=\"1\" class=\"dataframe\">\n",
       "  <thead>\n",
       "    <tr style=\"text-align: right;\">\n",
       "      <th></th>\n",
       "      <th>Customer Order</th>\n",
       "      <th>Dist.Chl.Name</th>\n",
       "      <th>Material Group</th>\n",
       "      <th>FG Type</th>\n",
       "      <th>FG Type Desc.</th>\n",
       "      <th>Construction</th>\n",
       "      <th>Fabrication</th>\n",
       "      <th>Design Source</th>\n",
       "      <th>Business Source</th>\n",
       "      <th>Customer Group</th>\n",
       "      <th>...</th>\n",
       "      <th>SO Doc.Currency</th>\n",
       "      <th>Destination</th>\n",
       "      <th>Req.Delivery Date</th>\n",
       "      <th>RM In Date</th>\n",
       "      <th>Planned Cut Date</th>\n",
       "      <th>Original Ex.Factory Date</th>\n",
       "      <th>Revised Ex.Factory Date</th>\n",
       "      <th>Program Type</th>\n",
       "      <th>Program Type Desc.</th>\n",
       "      <th>Pack Qty</th>\n",
       "    </tr>\n",
       "  </thead>\n",
       "  <tbody>\n",
       "    <tr>\n",
       "      <th>0</th>\n",
       "      <td>867536001</td>\n",
       "      <td>Bulk</td>\n",
       "      <td>SINGLE</td>\n",
       "      <td>SING</td>\n",
       "      <td>Single</td>\n",
       "      <td>KNIT</td>\n",
       "      <td>SYNTHETIC</td>\n",
       "      <td>TECH PACK</td>\n",
       "      <td>REGULAR</td>\n",
       "      <td>Sportswear 1</td>\n",
       "      <td>...</td>\n",
       "      <td>USD</td>\n",
       "      <td>Africa</td>\n",
       "      <td>2023-05-31</td>\n",
       "      <td>2022-11-20</td>\n",
       "      <td>2022-11-27</td>\n",
       "      <td>2023-01-12</td>\n",
       "      <td>2023-05-17</td>\n",
       "      <td>R01</td>\n",
       "      <td>REGULAR</td>\n",
       "      <td>0</td>\n",
       "    </tr>\n",
       "    <tr>\n",
       "      <th>1</th>\n",
       "      <td>867536002</td>\n",
       "      <td>Bulk</td>\n",
       "      <td>SINGLE</td>\n",
       "      <td>SING</td>\n",
       "      <td>Single</td>\n",
       "      <td>KNIT</td>\n",
       "      <td>SYNTHETIC</td>\n",
       "      <td>TECH PACK</td>\n",
       "      <td>REGULAR</td>\n",
       "      <td>Sportswear 1</td>\n",
       "      <td>...</td>\n",
       "      <td>USD</td>\n",
       "      <td>Africa</td>\n",
       "      <td>2023-05-31</td>\n",
       "      <td>2022-11-20</td>\n",
       "      <td>2022-11-27</td>\n",
       "      <td>2023-01-12</td>\n",
       "      <td>2023-05-17</td>\n",
       "      <td>R01</td>\n",
       "      <td>REGULAR</td>\n",
       "      <td>0</td>\n",
       "    </tr>\n",
       "    <tr>\n",
       "      <th>2</th>\n",
       "      <td>867536003</td>\n",
       "      <td>Bulk</td>\n",
       "      <td>SINGLE</td>\n",
       "      <td>SING</td>\n",
       "      <td>Single</td>\n",
       "      <td>KNIT</td>\n",
       "      <td>SYNTHETIC</td>\n",
       "      <td>TECH PACK</td>\n",
       "      <td>REGULAR</td>\n",
       "      <td>Sportswear 1</td>\n",
       "      <td>...</td>\n",
       "      <td>USD</td>\n",
       "      <td>Africa</td>\n",
       "      <td>2023-05-31</td>\n",
       "      <td>2022-11-20</td>\n",
       "      <td>2022-11-27</td>\n",
       "      <td>2023-01-12</td>\n",
       "      <td>2023-05-17</td>\n",
       "      <td>R01</td>\n",
       "      <td>REGULAR</td>\n",
       "      <td>0</td>\n",
       "    </tr>\n",
       "    <tr>\n",
       "      <th>3</th>\n",
       "      <td>867536004</td>\n",
       "      <td>Bulk</td>\n",
       "      <td>SINGLE</td>\n",
       "      <td>SING</td>\n",
       "      <td>Single</td>\n",
       "      <td>KNIT</td>\n",
       "      <td>SYNTHETIC</td>\n",
       "      <td>TECH PACK</td>\n",
       "      <td>REGULAR</td>\n",
       "      <td>Sportswear 1</td>\n",
       "      <td>...</td>\n",
       "      <td>USD</td>\n",
       "      <td>Africa</td>\n",
       "      <td>2023-05-31</td>\n",
       "      <td>2022-11-20</td>\n",
       "      <td>2022-11-27</td>\n",
       "      <td>2023-01-12</td>\n",
       "      <td>2023-05-17</td>\n",
       "      <td>R01</td>\n",
       "      <td>REGULAR</td>\n",
       "      <td>0</td>\n",
       "    </tr>\n",
       "    <tr>\n",
       "      <th>4</th>\n",
       "      <td>867536005</td>\n",
       "      <td>Bulk</td>\n",
       "      <td>SINGLE</td>\n",
       "      <td>SING</td>\n",
       "      <td>Single</td>\n",
       "      <td>KNIT</td>\n",
       "      <td>SYNTHETIC</td>\n",
       "      <td>TECH PACK</td>\n",
       "      <td>REGULAR</td>\n",
       "      <td>Sportswear 1</td>\n",
       "      <td>...</td>\n",
       "      <td>USD</td>\n",
       "      <td>Africa</td>\n",
       "      <td>2023-05-31</td>\n",
       "      <td>2022-12-16</td>\n",
       "      <td>2022-12-23</td>\n",
       "      <td>2023-05-12</td>\n",
       "      <td>2023-05-17</td>\n",
       "      <td>R01</td>\n",
       "      <td>REGULAR</td>\n",
       "      <td>0</td>\n",
       "    </tr>\n",
       "  </tbody>\n",
       "</table>\n",
       "<p>5 rows × 32 columns</p>\n",
       "</div>"
      ],
      "text/plain": [
       "   Customer Order Dist.Chl.Name Material Group FG Type FG Type Desc.  \\\n",
       "0       867536001          Bulk         SINGLE    SING        Single   \n",
       "1       867536002          Bulk         SINGLE    SING        Single   \n",
       "2       867536003          Bulk         SINGLE    SING        Single   \n",
       "3       867536004          Bulk         SINGLE    SING        Single   \n",
       "4       867536005          Bulk         SINGLE    SING        Single   \n",
       "\n",
       "  Construction Fabrication Design Source Business Source Customer Group  ...  \\\n",
       "0         KNIT   SYNTHETIC     TECH PACK         REGULAR   Sportswear 1  ...   \n",
       "1         KNIT   SYNTHETIC     TECH PACK         REGULAR   Sportswear 1  ...   \n",
       "2         KNIT   SYNTHETIC     TECH PACK         REGULAR   Sportswear 1  ...   \n",
       "3         KNIT   SYNTHETIC     TECH PACK         REGULAR   Sportswear 1  ...   \n",
       "4         KNIT   SYNTHETIC     TECH PACK         REGULAR   Sportswear 1  ...   \n",
       "\n",
       "  SO Doc.Currency Destination Req.Delivery Date  RM In Date Planned Cut Date  \\\n",
       "0             USD      Africa        2023-05-31  2022-11-20       2022-11-27   \n",
       "1             USD      Africa        2023-05-31  2022-11-20       2022-11-27   \n",
       "2             USD      Africa        2023-05-31  2022-11-20       2022-11-27   \n",
       "3             USD      Africa        2023-05-31  2022-11-20       2022-11-27   \n",
       "4             USD      Africa        2023-05-31  2022-12-16       2022-12-23   \n",
       "\n",
       "  Original Ex.Factory Date  Revised Ex.Factory Date Program Type  \\\n",
       "0               2023-01-12               2023-05-17          R01   \n",
       "1               2023-01-12               2023-05-17          R01   \n",
       "2               2023-01-12               2023-05-17          R01   \n",
       "3               2023-01-12               2023-05-17          R01   \n",
       "4               2023-05-12               2023-05-17          R01   \n",
       "\n",
       "   Program Type Desc. Pack Qty  \n",
       "0             REGULAR        0  \n",
       "1             REGULAR        0  \n",
       "2             REGULAR        0  \n",
       "3             REGULAR        0  \n",
       "4             REGULAR        0  \n",
       "\n",
       "[5 rows x 32 columns]"
      ]
     },
     "execution_count": 8,
     "metadata": {},
     "output_type": "execute_result"
    }
   ],
   "source": [
    "df.head()"
   ]
  },
  {
   "cell_type": "code",
   "execution_count": 9,
   "metadata": {},
   "outputs": [
    {
     "data": {
      "text/plain": [
       "Index(['Customer Order', 'Dist.Chl.Name', 'Material Group', 'FG Type',\n",
       "       'FG Type Desc.', 'Construction', 'Fabrication', 'Design Source',\n",
       "       'Business Source', 'Customer Group', 'Customer', 'Gender',\n",
       "       'Global Style', 'FG SKU', 'Cust.Color Code', 'Season', 'Season Year',\n",
       "       'Size', 'Order Qty', 'Sales Unit', 'FOB', 'Total FOB',\n",
       "       'SO Doc.Currency', 'Destination', 'Req.Delivery Date', 'RM In Date',\n",
       "       'Planned Cut Date', 'Original Ex.Factory Date',\n",
       "       'Revised Ex.Factory Date', 'Program Type', 'Program Type Desc.',\n",
       "       'Pack Qty'],\n",
       "      dtype='object')"
      ]
     },
     "execution_count": 9,
     "metadata": {},
     "output_type": "execute_result"
    }
   ],
   "source": [
    "df.columns"
   ]
  },
  {
   "cell_type": "code",
   "execution_count": 10,
   "metadata": {},
   "outputs": [
    {
     "name": "stdout",
     "output_type": "stream",
     "text": [
      "<class 'pandas.core.frame.DataFrame'>\n",
      "RangeIndex: 20674 entries, 0 to 20673\n",
      "Data columns (total 32 columns):\n",
      " #   Column                    Non-Null Count  Dtype  \n",
      "---  ------                    --------------  -----  \n",
      " 0   Customer Order            20674 non-null  int64  \n",
      " 1   Dist.Chl.Name             20674 non-null  object \n",
      " 2   Material Group            20674 non-null  object \n",
      " 3   FG Type                   20674 non-null  object \n",
      " 4   FG Type Desc.             20674 non-null  object \n",
      " 5   Construction              20674 non-null  object \n",
      " 6   Fabrication               20674 non-null  object \n",
      " 7   Design Source             20674 non-null  object \n",
      " 8   Business Source           20674 non-null  object \n",
      " 9   Customer Group            20674 non-null  object \n",
      " 10  Customer                  20674 non-null  object \n",
      " 11  Gender                    20674 non-null  object \n",
      " 12  Global Style              20668 non-null  object \n",
      " 13  FG SKU                    20668 non-null  object \n",
      " 14  Cust.Color Code           20674 non-null  object \n",
      " 15  Season                    20674 non-null  object \n",
      " 16  Season Year               20674 non-null  int64  \n",
      " 17  Size                      20674 non-null  object \n",
      " 18  Order Qty                 20674 non-null  int64  \n",
      " 19  Sales Unit                20674 non-null  object \n",
      " 20  FOB                       20674 non-null  float64\n",
      " 21  Total FOB                 20674 non-null  float64\n",
      " 22  SO Doc.Currency           20674 non-null  object \n",
      " 23  Destination               20674 non-null  object \n",
      " 24  Req.Delivery Date         20674 non-null  object \n",
      " 25  RM In Date                20674 non-null  object \n",
      " 26  Planned Cut Date          20674 non-null  object \n",
      " 27  Original Ex.Factory Date  20674 non-null  object \n",
      " 28  Revised Ex.Factory Date   20674 non-null  object \n",
      " 29  Program Type              20674 non-null  object \n",
      " 30  Program Type Desc.        20674 non-null  object \n",
      " 31  Pack Qty                  20674 non-null  int64  \n",
      "dtypes: float64(2), int64(4), object(26)\n",
      "memory usage: 5.0+ MB\n"
     ]
    }
   ],
   "source": [
    "df.info()"
   ]
  },
  {
   "cell_type": "code",
   "execution_count": 11,
   "metadata": {},
   "outputs": [
    {
     "data": {
      "text/plain": [
       "Customer Order              0\n",
       "Dist.Chl.Name               0\n",
       "Material Group              0\n",
       "FG Type                     0\n",
       "FG Type Desc.               0\n",
       "Construction                0\n",
       "Fabrication                 0\n",
       "Design Source               0\n",
       "Business Source             0\n",
       "Customer Group              0\n",
       "Customer                    0\n",
       "Gender                      0\n",
       "Global Style                6\n",
       "FG SKU                      6\n",
       "Cust.Color Code             0\n",
       "Season                      0\n",
       "Season Year                 0\n",
       "Size                        0\n",
       "Order Qty                   0\n",
       "Sales Unit                  0\n",
       "FOB                         0\n",
       "Total FOB                   0\n",
       "SO Doc.Currency             0\n",
       "Destination                 0\n",
       "Req.Delivery Date           0\n",
       "RM In Date                  0\n",
       "Planned Cut Date            0\n",
       "Original Ex.Factory Date    0\n",
       "Revised Ex.Factory Date     0\n",
       "Program Type                0\n",
       "Program Type Desc.          0\n",
       "Pack Qty                    0\n",
       "dtype: int64"
      ]
     },
     "execution_count": 11,
     "metadata": {},
     "output_type": "execute_result"
    }
   ],
   "source": [
    "df.isnull().sum()"
   ]
  },
  {
   "cell_type": "code",
   "execution_count": 12,
   "metadata": {},
   "outputs": [
    {
     "data": {
      "text/html": [
       "<div>\n",
       "<style scoped>\n",
       "    .dataframe tbody tr th:only-of-type {\n",
       "        vertical-align: middle;\n",
       "    }\n",
       "\n",
       "    .dataframe tbody tr th {\n",
       "        vertical-align: top;\n",
       "    }\n",
       "\n",
       "    .dataframe thead th {\n",
       "        text-align: right;\n",
       "    }\n",
       "</style>\n",
       "<table border=\"1\" class=\"dataframe\">\n",
       "  <thead>\n",
       "    <tr style=\"text-align: right;\">\n",
       "      <th></th>\n",
       "      <th>Total</th>\n",
       "      <th>Percent</th>\n",
       "    </tr>\n",
       "  </thead>\n",
       "  <tbody>\n",
       "    <tr>\n",
       "      <th>FG SKU</th>\n",
       "      <td>6</td>\n",
       "      <td>0.00029</td>\n",
       "    </tr>\n",
       "    <tr>\n",
       "      <th>Global Style</th>\n",
       "      <td>6</td>\n",
       "      <td>0.00029</td>\n",
       "    </tr>\n",
       "    <tr>\n",
       "      <th>Customer Order</th>\n",
       "      <td>0</td>\n",
       "      <td>0.00000</td>\n",
       "    </tr>\n",
       "    <tr>\n",
       "      <th>Destination</th>\n",
       "      <td>0</td>\n",
       "      <td>0.00000</td>\n",
       "    </tr>\n",
       "    <tr>\n",
       "      <th>Sales Unit</th>\n",
       "      <td>0</td>\n",
       "      <td>0.00000</td>\n",
       "    </tr>\n",
       "    <tr>\n",
       "      <th>FOB</th>\n",
       "      <td>0</td>\n",
       "      <td>0.00000</td>\n",
       "    </tr>\n",
       "    <tr>\n",
       "      <th>Total FOB</th>\n",
       "      <td>0</td>\n",
       "      <td>0.00000</td>\n",
       "    </tr>\n",
       "    <tr>\n",
       "      <th>SO Doc.Currency</th>\n",
       "      <td>0</td>\n",
       "      <td>0.00000</td>\n",
       "    </tr>\n",
       "    <tr>\n",
       "      <th>Req.Delivery Date</th>\n",
       "      <td>0</td>\n",
       "      <td>0.00000</td>\n",
       "    </tr>\n",
       "    <tr>\n",
       "      <th>Size</th>\n",
       "      <td>0</td>\n",
       "      <td>0.00000</td>\n",
       "    </tr>\n",
       "    <tr>\n",
       "      <th>RM In Date</th>\n",
       "      <td>0</td>\n",
       "      <td>0.00000</td>\n",
       "    </tr>\n",
       "    <tr>\n",
       "      <th>Planned Cut Date</th>\n",
       "      <td>0</td>\n",
       "      <td>0.00000</td>\n",
       "    </tr>\n",
       "    <tr>\n",
       "      <th>Original Ex.Factory Date</th>\n",
       "      <td>0</td>\n",
       "      <td>0.00000</td>\n",
       "    </tr>\n",
       "    <tr>\n",
       "      <th>Revised Ex.Factory Date</th>\n",
       "      <td>0</td>\n",
       "      <td>0.00000</td>\n",
       "    </tr>\n",
       "    <tr>\n",
       "      <th>Program Type</th>\n",
       "      <td>0</td>\n",
       "      <td>0.00000</td>\n",
       "    </tr>\n",
       "    <tr>\n",
       "      <th>Program Type Desc.</th>\n",
       "      <td>0</td>\n",
       "      <td>0.00000</td>\n",
       "    </tr>\n",
       "    <tr>\n",
       "      <th>Order Qty</th>\n",
       "      <td>0</td>\n",
       "      <td>0.00000</td>\n",
       "    </tr>\n",
       "    <tr>\n",
       "      <th>Season Year</th>\n",
       "      <td>0</td>\n",
       "      <td>0.00000</td>\n",
       "    </tr>\n",
       "    <tr>\n",
       "      <th>Dist.Chl.Name</th>\n",
       "      <td>0</td>\n",
       "      <td>0.00000</td>\n",
       "    </tr>\n",
       "    <tr>\n",
       "      <th>Season</th>\n",
       "      <td>0</td>\n",
       "      <td>0.00000</td>\n",
       "    </tr>\n",
       "  </tbody>\n",
       "</table>\n",
       "</div>"
      ],
      "text/plain": [
       "                          Total  Percent\n",
       "FG SKU                        6  0.00029\n",
       "Global Style                  6  0.00029\n",
       "Customer Order                0  0.00000\n",
       "Destination                   0  0.00000\n",
       "Sales Unit                    0  0.00000\n",
       "FOB                           0  0.00000\n",
       "Total FOB                     0  0.00000\n",
       "SO Doc.Currency               0  0.00000\n",
       "Req.Delivery Date             0  0.00000\n",
       "Size                          0  0.00000\n",
       "RM In Date                    0  0.00000\n",
       "Planned Cut Date              0  0.00000\n",
       "Original Ex.Factory Date      0  0.00000\n",
       "Revised Ex.Factory Date       0  0.00000\n",
       "Program Type                  0  0.00000\n",
       "Program Type Desc.            0  0.00000\n",
       "Order Qty                     0  0.00000\n",
       "Season Year                   0  0.00000\n",
       "Dist.Chl.Name                 0  0.00000\n",
       "Season                        0  0.00000"
      ]
     },
     "execution_count": 12,
     "metadata": {},
     "output_type": "execute_result"
    }
   ],
   "source": [
    "# Check the percentage of NaN in dataset\n",
    "total = df.isnull().sum().sort_values(ascending=False)\n",
    "percent = (df.isnull().sum() / df['Global Style'].count()).sort_values(ascending=False)\n",
    "missing_data = pd.concat([total, percent], axis=1, keys=['Total', 'Percent'])\n",
    "missing_data.head(20)"
   ]
  },
  {
   "cell_type": "markdown",
   "metadata": {},
   "source": [
    "Visualization of Data"
   ]
  },
  {
   "cell_type": "code",
   "execution_count": 13,
   "metadata": {},
   "outputs": [
    {
     "data": {
      "image/png": "[encoded data removed]",
      "text/plain": [
       "<Figure size 2000x1000 with 2 Axes>"
      ]
     },
     "metadata": {},
     "output_type": "display_data"
    }
   ],
   "source": [
    "numeric_data = df.select_dtypes(include=['float64', 'int64'])\n",
    "fig, ax = plt.subplots(figsize=(20, 10))\n",
    "sns.heatmap(numeric_data.corr(), cmap='coolwarm', annot=True, linewidths=2, ax=ax)\n",
    "plt.show()"
   ]
  },
  {
   "cell_type": "code",
   "execution_count": 14,
   "metadata": {},
   "outputs": [
    {
     "data": {
      "image/png": "[encoded data removed]",
      "text/plain": [
       "<Figure size 1000x400 with 1 Axes>"
      ]
     },
     "metadata": {},
     "output_type": "display_data"
    }
   ],
   "source": [
    "# Frequency of Gender\n",
    "fig, ax = plt.subplots()\n",
    "fig.set_size_inches(10, 4)\n",
    "sns.countplot(x='Gender', data=df, order=df['Gender'].value_counts().index, ax=ax)\n",
    "plt.show()"
   ]
  },
  {
   "cell_type": "code",
   "execution_count": 15,
   "metadata": {},
   "outputs": [
    {
     "data": {
      "image/png": "[encoded data removed]",
      "text/plain": [
       "<Figure size 1000x400 with 1 Axes>"
      ]
     },
     "metadata": {},
     "output_type": "display_data"
    }
   ],
   "source": [
    "# Frequency of Season\n",
    "fig, ax = plt.subplots()\n",
    "fig.set_size_inches(10, 4)\n",
    "sns.countplot(x='Season', data=df, order=df['Season'].value_counts().index, ax=ax)\n",
    "plt.show()"
   ]
  },
  {
   "cell_type": "code",
   "execution_count": 16,
   "metadata": {},
   "outputs": [
    {
     "data": {
      "image/png": "[encoded data removed]",
      "text/plain": [
       "<Figure size 1000x400 with 1 Axes>"
      ]
     },
     "metadata": {},
     "output_type": "display_data"
    }
   ],
   "source": [
    "# Frequency of Year\n",
    "fig, ax = plt.subplots()\n",
    "fig.set_size_inches(10, 4)\n",
    "sns.countplot(x='Season Year', data=df, order=df['Season Year'].value_counts().index, ax=ax)\n",
    "plt.show()"
   ]
  },
  {
   "cell_type": "code",
   "execution_count": 17,
   "metadata": {},
   "outputs": [
    {
     "data": {
      "image/png": "[encoded data removed]",
      "text/plain": [
       "<Figure size 1000x400 with 1 Axes>"
      ]
     },
     "metadata": {},
     "output_type": "display_data"
    }
   ],
   "source": [
    "# Frequency of Customer Group\n",
    "fig, ax = plt.subplots()\n",
    "fig.set_size_inches(10, 4)\n",
    "sns.countplot(x='Customer Group', data=df, order=df['Customer Group'].value_counts().index, ax=ax)\n",
    "plt.show()"
   ]
  },
  {
   "cell_type": "code",
   "execution_count": 18,
   "metadata": {},
   "outputs": [
    {
     "data": {
      "image/png": "[encoded data removed]",
      "text/plain": [
       "<Figure size 640x480 with 1 Axes>"
      ]
     },
     "metadata": {},
     "output_type": "display_data"
    }
   ],
   "source": [
    "sns.countplot(x='Season', data=df)\n",
    "sns.violinplot(x='Order Qty', y='Gender', data=df)\n",
    "plt.show()"
   ]
  },
  {
   "cell_type": "markdown",
   "metadata": {},
   "source": [
    "Data Cleaning"
   ]
  },
  {
   "cell_type": "code",
   "execution_count": 19,
   "metadata": {},
   "outputs": [
    {
     "name": "stdout",
     "output_type": "stream",
     "text": [
      "<class 'pandas.core.frame.DataFrame'>\n",
      "RangeIndex: 20674 entries, 0 to 20673\n",
      "Data columns (total 32 columns):\n",
      " #   Column                    Non-Null Count  Dtype  \n",
      "---  ------                    --------------  -----  \n",
      " 0   Customer Order            20674 non-null  int64  \n",
      " 1   Dist.Chl.Name             20674 non-null  object \n",
      " 2   Material Group            20674 non-null  object \n",
      " 3   FG Type                   20674 non-null  object \n",
      " 4   FG Type Desc.             20674 non-null  object \n",
      " 5   Construction              20674 non-null  object \n",
      " 6   Fabrication               20674 non-null  object \n",
      " 7   Design Source             20674 non-null  object \n",
      " 8   Business Source           20674 non-null  object \n",
      " 9   Customer Group            20674 non-null  object \n",
      " 10  Customer                  20674 non-null  object \n",
      " 11  Gender                    20674 non-null  object \n",
      " 12  Global Style              20668 non-null  object \n",
      " 13  FG SKU                    20668 non-null  object \n",
      " 14  Cust.Color Code           20674 non-null  object \n",
      " 15  Season                    20674 non-null  object \n",
      " 16  Season Year               20674 non-null  int64  \n",
      " 17  Size                      20674 non-null  object \n",
      " 18  Order Qty                 20674 non-null  int64  \n",
      " 19  Sales Unit                20674 non-null  object \n",
      " 20  FOB                       20674 non-null  float64\n",
      " 21  Total FOB                 20674 non-null  float64\n",
      " 22  SO Doc.Currency           20674 non-null  object \n",
      " 23  Destination               20674 non-null  object \n",
      " 24  Req.Delivery Date         20674 non-null  object \n",
      " 25  RM In Date                20674 non-null  object \n",
      " 26  Planned Cut Date          20674 non-null  object \n",
      " 27  Original Ex.Factory Date  20674 non-null  object \n",
      " 28  Revised Ex.Factory Date   20674 non-null  object \n",
      " 29  Program Type              20674 non-null  object \n",
      " 30  Program Type Desc.        20674 non-null  object \n",
      " 31  Pack Qty                  20674 non-null  int64  \n",
      "dtypes: float64(2), int64(4), object(26)\n",
      "memory usage: 5.0+ MB\n"
     ]
    }
   ],
   "source": [
    "df.info()"
   ]
  },
  {
   "cell_type": "code",
   "execution_count": 20,
   "metadata": {},
   "outputs": [],
   "source": [
    "# Remove duplicate rows\n",
    "df = df.drop_duplicates()"
   ]
  },
  {
   "cell_type": "code",
   "execution_count": 21,
   "metadata": {},
   "outputs": [],
   "source": [
    "# Convert date columns to datetime objects  \n",
    "    \n",
    "def convert_date_into_days(df):\n",
    "    df['Req.Delivery Date'] = pd.to_datetime(df['Req.Delivery Date'])\n",
    "    df['RM In Date'] = pd.to_datetime(df['RM In Date'])\n",
    "    df['Planned Cut Date'] = pd.to_datetime(df['Planned Cut Date'])\n",
    "    df['Original Ex.Factory Date'] = pd.to_datetime(df['Original Ex.Factory Date'])\n",
    "    df['Revised Ex.Factory Date'] = pd.to_datetime(df['Revised Ex.Factory Date'])\n",
    "\n",
    "    # Feature engineering\n",
    "    df['Production Lead Time'] = (df['Original Ex.Factory Date'] - df['Planned Cut Date']).dt.days\n",
    "    df['Revised Original Date Difference'] = (df['Revised Ex.Factory Date'] - df['Original Ex.Factory Date']).dt.days\n",
    "    \n",
    "    # Extract year, month, day of the 'Req.Delivery Date' column\n",
    "    df['Order Day'] = df['Req.Delivery Date'].dt.day\n",
    "    df['Order Year'] = df['Req.Delivery Date'].dt.year\n",
    "    df['Order Month'] = df['Req.Delivery Date'].dt.month"
   ]
  },
  {
   "cell_type": "code",
   "execution_count": 22,
   "metadata": {},
   "outputs": [],
   "source": [
    "convert_date_into_days(df)\n"
   ]
  },
  {
   "cell_type": "code",
   "execution_count": 23,
   "metadata": {},
   "outputs": [
    {
     "name": "stdout",
     "output_type": "stream",
     "text": [
      "<class 'pandas.core.frame.DataFrame'>\n",
      "RangeIndex: 20674 entries, 0 to 20673\n",
      "Data columns (total 37 columns):\n",
      " #   Column                            Non-Null Count  Dtype         \n",
      "---  ------                            --------------  -----         \n",
      " 0   Customer Order                    20674 non-null  int64         \n",
      " 1   Dist.Chl.Name                     20674 non-null  object        \n",
      " 2   Material Group                    20674 non-null  object        \n",
      " 3   FG Type                           20674 non-null  object        \n",
      " 4   FG Type Desc.                     20674 non-null  object        \n",
      " 5   Construction                      20674 non-null  object        \n",
      " 6   Fabrication                       20674 non-null  object        \n",
      " 7   Design Source                     20674 non-null  object        \n",
      " 8   Business Source                   20674 non-null  object        \n",
      " 9   Customer Group                    20674 non-null  object        \n",
      " 10  Customer                          20674 non-null  object        \n",
      " 11  Gender                            20674 non-null  object        \n",
      " 12  Global Style                      20668 non-null  object        \n",
      " 13  FG SKU                            20668 non-null  object        \n",
      " 14  Cust.Color Code                   20674 non-null  object        \n",
      " 15  Season                            20674 non-null  object        \n",
      " 16  Season Year                       20674 non-null  int64         \n",
      " 17  Size                              20674 non-null  object        \n",
      " 18  Order Qty                         20674 non-null  int64         \n",
      " 19  Sales Unit                        20674 non-null  object        \n",
      " 20  FOB                               20674 non-null  float64       \n",
      " 21  Total FOB                         20674 non-null  float64       \n",
      " 22  SO Doc.Currency                   20674 non-null  object        \n",
      " 23  Destination                       20674 non-null  object        \n",
      " 24  Req.Delivery Date                 20674 non-null  datetime64[ns]\n",
      " 25  RM In Date                        20674 non-null  datetime64[ns]\n",
      " 26  Planned Cut Date                  20674 non-null  datetime64[ns]\n",
      " 27  Original Ex.Factory Date          20674 non-null  datetime64[ns]\n",
      " 28  Revised Ex.Factory Date           20674 non-null  datetime64[ns]\n",
      " 29  Program Type                      20674 non-null  object        \n",
      " 30  Program Type Desc.                20674 non-null  object        \n",
      " 31  Pack Qty                          20674 non-null  int64         \n",
      " 32  Production Lead Time              20674 non-null  int64         \n",
      " 33  Revised Original Date Difference  20674 non-null  int64         \n",
      " 34  Order Day                         20674 non-null  int32         \n",
      " 35  Order Year                        20674 non-null  int32         \n",
      " 36  Order Month                       20674 non-null  int32         \n",
      "dtypes: datetime64[ns](5), float64(2), int32(3), int64(6), object(21)\n",
      "memory usage: 5.6+ MB\n"
     ]
    }
   ],
   "source": [
    "df.info()"
   ]
  },
  {
   "cell_type": "code",
   "execution_count": 24,
   "metadata": {},
   "outputs": [
    {
     "data": {
      "text/html": [
       "<div>\n",
       "<style scoped>\n",
       "    .dataframe tbody tr th:only-of-type {\n",
       "        vertical-align: middle;\n",
       "    }\n",
       "\n",
       "    .dataframe tbody tr th {\n",
       "        vertical-align: top;\n",
       "    }\n",
       "\n",
       "    .dataframe thead th {\n",
       "        text-align: right;\n",
       "    }\n",
       "</style>\n",
       "<table border=\"1\" class=\"dataframe\">\n",
       "  <thead>\n",
       "    <tr style=\"text-align: right;\">\n",
       "      <th></th>\n",
       "      <th>Total</th>\n",
       "      <th>Percent</th>\n",
       "    </tr>\n",
       "  </thead>\n",
       "  <tbody>\n",
       "    <tr>\n",
       "      <th>FG SKU</th>\n",
       "      <td>6</td>\n",
       "      <td>0.00029</td>\n",
       "    </tr>\n",
       "    <tr>\n",
       "      <th>Global Style</th>\n",
       "      <td>6</td>\n",
       "      <td>0.00029</td>\n",
       "    </tr>\n",
       "    <tr>\n",
       "      <th>Customer Order</th>\n",
       "      <td>0</td>\n",
       "      <td>0.00000</td>\n",
       "    </tr>\n",
       "    <tr>\n",
       "      <th>Original Ex.Factory Date</th>\n",
       "      <td>0</td>\n",
       "      <td>0.00000</td>\n",
       "    </tr>\n",
       "    <tr>\n",
       "      <th>SO Doc.Currency</th>\n",
       "      <td>0</td>\n",
       "      <td>0.00000</td>\n",
       "    </tr>\n",
       "    <tr>\n",
       "      <th>Destination</th>\n",
       "      <td>0</td>\n",
       "      <td>0.00000</td>\n",
       "    </tr>\n",
       "    <tr>\n",
       "      <th>Req.Delivery Date</th>\n",
       "      <td>0</td>\n",
       "      <td>0.00000</td>\n",
       "    </tr>\n",
       "    <tr>\n",
       "      <th>RM In Date</th>\n",
       "      <td>0</td>\n",
       "      <td>0.00000</td>\n",
       "    </tr>\n",
       "    <tr>\n",
       "      <th>Planned Cut Date</th>\n",
       "      <td>0</td>\n",
       "      <td>0.00000</td>\n",
       "    </tr>\n",
       "    <tr>\n",
       "      <th>Revised Ex.Factory Date</th>\n",
       "      <td>0</td>\n",
       "      <td>0.00000</td>\n",
       "    </tr>\n",
       "    <tr>\n",
       "      <th>FOB</th>\n",
       "      <td>0</td>\n",
       "      <td>0.00000</td>\n",
       "    </tr>\n",
       "    <tr>\n",
       "      <th>Program Type</th>\n",
       "      <td>0</td>\n",
       "      <td>0.00000</td>\n",
       "    </tr>\n",
       "    <tr>\n",
       "      <th>Program Type Desc.</th>\n",
       "      <td>0</td>\n",
       "      <td>0.00000</td>\n",
       "    </tr>\n",
       "    <tr>\n",
       "      <th>Pack Qty</th>\n",
       "      <td>0</td>\n",
       "      <td>0.00000</td>\n",
       "    </tr>\n",
       "    <tr>\n",
       "      <th>Production Lead Time</th>\n",
       "      <td>0</td>\n",
       "      <td>0.00000</td>\n",
       "    </tr>\n",
       "    <tr>\n",
       "      <th>Revised Original Date Difference</th>\n",
       "      <td>0</td>\n",
       "      <td>0.00000</td>\n",
       "    </tr>\n",
       "    <tr>\n",
       "      <th>Order Day</th>\n",
       "      <td>0</td>\n",
       "      <td>0.00000</td>\n",
       "    </tr>\n",
       "    <tr>\n",
       "      <th>Order Year</th>\n",
       "      <td>0</td>\n",
       "      <td>0.00000</td>\n",
       "    </tr>\n",
       "    <tr>\n",
       "      <th>Total FOB</th>\n",
       "      <td>0</td>\n",
       "      <td>0.00000</td>\n",
       "    </tr>\n",
       "    <tr>\n",
       "      <th>Order Qty</th>\n",
       "      <td>0</td>\n",
       "      <td>0.00000</td>\n",
       "    </tr>\n",
       "    <tr>\n",
       "      <th>Sales Unit</th>\n",
       "      <td>0</td>\n",
       "      <td>0.00000</td>\n",
       "    </tr>\n",
       "    <tr>\n",
       "      <th>Business Source</th>\n",
       "      <td>0</td>\n",
       "      <td>0.00000</td>\n",
       "    </tr>\n",
       "    <tr>\n",
       "      <th>Material Group</th>\n",
       "      <td>0</td>\n",
       "      <td>0.00000</td>\n",
       "    </tr>\n",
       "    <tr>\n",
       "      <th>FG Type</th>\n",
       "      <td>0</td>\n",
       "      <td>0.00000</td>\n",
       "    </tr>\n",
       "    <tr>\n",
       "      <th>FG Type Desc.</th>\n",
       "      <td>0</td>\n",
       "      <td>0.00000</td>\n",
       "    </tr>\n",
       "    <tr>\n",
       "      <th>Construction</th>\n",
       "      <td>0</td>\n",
       "      <td>0.00000</td>\n",
       "    </tr>\n",
       "    <tr>\n",
       "      <th>Fabrication</th>\n",
       "      <td>0</td>\n",
       "      <td>0.00000</td>\n",
       "    </tr>\n",
       "    <tr>\n",
       "      <th>Design Source</th>\n",
       "      <td>0</td>\n",
       "      <td>0.00000</td>\n",
       "    </tr>\n",
       "    <tr>\n",
       "      <th>Customer Group</th>\n",
       "      <td>0</td>\n",
       "      <td>0.00000</td>\n",
       "    </tr>\n",
       "    <tr>\n",
       "      <th>Dist.Chl.Name</th>\n",
       "      <td>0</td>\n",
       "      <td>0.00000</td>\n",
       "    </tr>\n",
       "    <tr>\n",
       "      <th>Customer</th>\n",
       "      <td>0</td>\n",
       "      <td>0.00000</td>\n",
       "    </tr>\n",
       "    <tr>\n",
       "      <th>Gender</th>\n",
       "      <td>0</td>\n",
       "      <td>0.00000</td>\n",
       "    </tr>\n",
       "    <tr>\n",
       "      <th>Cust.Color Code</th>\n",
       "      <td>0</td>\n",
       "      <td>0.00000</td>\n",
       "    </tr>\n",
       "    <tr>\n",
       "      <th>Season</th>\n",
       "      <td>0</td>\n",
       "      <td>0.00000</td>\n",
       "    </tr>\n",
       "    <tr>\n",
       "      <th>Season Year</th>\n",
       "      <td>0</td>\n",
       "      <td>0.00000</td>\n",
       "    </tr>\n",
       "    <tr>\n",
       "      <th>Size</th>\n",
       "      <td>0</td>\n",
       "      <td>0.00000</td>\n",
       "    </tr>\n",
       "    <tr>\n",
       "      <th>Order Month</th>\n",
       "      <td>0</td>\n",
       "      <td>0.00000</td>\n",
       "    </tr>\n",
       "  </tbody>\n",
       "</table>\n",
       "</div>"
      ],
      "text/plain": [
       "                                  Total  Percent\n",
       "FG SKU                                6  0.00029\n",
       "Global Style                          6  0.00029\n",
       "Customer Order                        0  0.00000\n",
       "Original Ex.Factory Date              0  0.00000\n",
       "SO Doc.Currency                       0  0.00000\n",
       "Destination                           0  0.00000\n",
       "Req.Delivery Date                     0  0.00000\n",
       "RM In Date                            0  0.00000\n",
       "Planned Cut Date                      0  0.00000\n",
       "Revised Ex.Factory Date               0  0.00000\n",
       "FOB                                   0  0.00000\n",
       "Program Type                          0  0.00000\n",
       "Program Type Desc.                    0  0.00000\n",
       "Pack Qty                              0  0.00000\n",
       "Production Lead Time                  0  0.00000\n",
       "Revised Original Date Difference      0  0.00000\n",
       "Order Day                             0  0.00000\n",
       "Order Year                            0  0.00000\n",
       "Total FOB                             0  0.00000\n",
       "Order Qty                             0  0.00000\n",
       "Sales Unit                            0  0.00000\n",
       "Business Source                       0  0.00000\n",
       "Material Group                        0  0.00000\n",
       "FG Type                               0  0.00000\n",
       "FG Type Desc.                         0  0.00000\n",
       "Construction                          0  0.00000\n",
       "Fabrication                           0  0.00000\n",
       "Design Source                         0  0.00000\n",
       "Customer Group                        0  0.00000\n",
       "Dist.Chl.Name                         0  0.00000\n",
       "Customer                              0  0.00000\n",
       "Gender                                0  0.00000\n",
       "Cust.Color Code                       0  0.00000\n",
       "Season                                0  0.00000\n",
       "Season Year                           0  0.00000\n",
       "Size                                  0  0.00000\n",
       "Order Month                           0  0.00000"
      ]
     },
     "execution_count": 24,
     "metadata": {},
     "output_type": "execute_result"
    }
   ],
   "source": [
    "# Check the percentage of NaN in dataset\n",
    "total = df.isnull().sum().sort_values(ascending=False)\n",
    "percent = (df.isnull().sum()/df['FG SKU'].count()).sort_values(ascending=False)\n",
    "missing_data = pd.concat([total, percent], axis=1, keys=['Total', 'Percent'])\n",
    "missing_data"
   ]
  },
  {
   "cell_type": "code",
   "execution_count": 25,
   "metadata": {},
   "outputs": [],
   "source": [
    "# Drop rows without any values in all columns\n",
    "df = df.dropna()"
   ]
  },
  {
   "cell_type": "code",
   "execution_count": 26,
   "metadata": {},
   "outputs": [],
   "source": [
    "# # SimpleImputer to fill missing values \n",
    "# imputer = SimpleImputer(strategy='mean')\n",
    "# df['FOB'] = imputer.fit_transform(df[['FOB']])\n",
    "# df['Total FOB'] = imputer.fit_transform(df[['Total FOB']])"
   ]
  },
  {
   "cell_type": "code",
   "execution_count": 27,
   "metadata": {},
   "outputs": [],
   "source": [
    "# # Handle missing values \n",
    "# imputer = SimpleImputer(strategy='mean')  \n",
    "# df['Order Qty'] = imputer.fit_transform(df[['Order Qty']])"
   ]
  },
  {
   "cell_type": "code",
   "execution_count": 28,
   "metadata": {},
   "outputs": [],
   "source": [
    "# Initialize a label encoder\n",
    "le = LabelEncoder()\n",
    "\n",
    "# Select columns to encode\n",
    "columns_to_encode = ['Dist.Chl.Name', 'Material Group', 'FG Type', 'FG Type Desc.', 'Construction', 'Fabrication', \n",
    "                     'Design Source', 'Business Source', 'Customer Group', 'Customer', 'Gender', 'Global Style', \n",
    "                     'FG SKU', 'Cust.Color Code', 'Size', 'Season', 'Sales Unit', 'SO Doc.Currency', 'Destination', \n",
    "                     'Program Type', 'Program Type Desc.']\n",
    "\n",
    "# Apply the label encoder to each column\n",
    "for column in columns_to_encode:\n",
    "    df[column] = le.fit_transform(df[column])"
   ]
  },
  {
   "cell_type": "code",
   "execution_count": 29,
   "metadata": {},
   "outputs": [
    {
     "data": {
      "text/plain": [
       "['/Users/amalshar/Desktop/IIT/4th Year/FYP Implementation/label_encoder.pkl']"
      ]
     },
     "execution_count": 29,
     "metadata": {},
     "output_type": "execute_result"
    }
   ],
   "source": [
    "# Save the label encoder\n",
    "import joblib\n",
    "\n",
    "joblib.dump(le, '/Users/amalshar/Desktop/IIT/4th Year/FYP Implementation/label_encoder.pkl')"
   ]
  },
  {
   "cell_type": "code",
   "execution_count": 30,
   "metadata": {},
   "outputs": [],
   "source": [
    "# Datetime columns\n",
    "datetime_columns = ['Req.Delivery Date', 'RM In Date', 'Planned Cut Date', 'Original Ex.Factory Date', 'Revised Ex.Factory Date']\n",
    "\n",
    "# Convert datetime columns to Unix timestamp\n",
    "for column in datetime_columns:\n",
    "    df[column] = pd.to_datetime(df[column]).astype(int) / 10**9"
   ]
  },
  {
   "cell_type": "code",
   "execution_count": 31,
   "metadata": {},
   "outputs": [],
   "source": [
    "df.to_csv('/Users/amalshar/Desktop/IIT/4th Year/FYP Implementation/Data/Preprocessed_Apparel_Sales_Data.csv', index=False, encoding='utf-8')"
   ]
  },
  {
   "cell_type": "markdown",
   "metadata": {},
   "source": [
    "LSTM Model"
   ]
  },
  {
   "cell_type": "code",
   "execution_count": 32,
   "metadata": {},
   "outputs": [],
   "source": [
    "# Load preprocessed data\n",
    "preprocessed_data = '/Users/amalshar/Desktop/IIT/4th Year/FYP Implementation/Data/Preprocessed_Apparel_Sales_Data.csv'\n",
    "df = pd.read_csv(preprocessed_data)"
   ]
  },
  {
   "cell_type": "code",
   "execution_count": 33,
   "metadata": {},
   "outputs": [],
   "source": [
    "# Define features and target variable\n",
    "features = ['Customer Order', 'Dist.Chl.Name', 'Material Group', 'FG Type', 'FG Type Desc.', 'Construction', 'Fabrication', 'Design Source', 'Business Source', 'Customer Group', 'Customer', 'Gender', 'Global Style', 'FG SKU', 'Cust.Color Code', 'Season', 'Season Year', 'Size', 'Sales Unit', 'FOB', 'Total FOB', 'SO Doc.Currency', 'Destination', 'Req.Delivery Date', 'RM In Date', 'Planned Cut Date', 'Original Ex.Factory Date', 'Revised Ex.Factory Date', 'Program Type', 'Program Type Desc.', 'Pack Qty', 'Production Lead Time', 'Revised Original Date Difference', 'Order Day', 'Order Month', 'Order Year']\n",
    "\n",
    "target = 'Order Qty'"
   ]
  },
  {
   "cell_type": "code",
   "execution_count": 34,
   "metadata": {},
   "outputs": [],
   "source": [
    "# Select features and target\n",
    "X = df[features]\n",
    "y = df[target]"
   ]
  },
  {
   "cell_type": "code",
   "execution_count": 35,
   "metadata": {},
   "outputs": [
    {
     "data": {
      "text/plain": [
       "['/Users/amalshar/Desktop/IIT/4th Year/FYP Implementation/Models/columns.pkl']"
      ]
     },
     "execution_count": 35,
     "metadata": {},
     "output_type": "execute_result"
    }
   ],
   "source": [
    "# Save columns.pkl\n",
    "import joblib\n",
    "joblib.dump(X.columns, '/Users/amalshar/Desktop/IIT/4th Year/FYP Implementation/Models/columns.pkl')"
   ]
  },
  {
   "cell_type": "code",
   "execution_count": 36,
   "metadata": {},
   "outputs": [],
   "source": [
    "# Simple imputer to fill missing values\n",
    "imputer = SimpleImputer(strategy='mean')\n",
    "X = imputer.fit_transform(X)"
   ]
  },
  {
   "cell_type": "code",
   "execution_count": 37,
   "metadata": {},
   "outputs": [],
   "source": [
    "# Scale the features\n",
    "scaler = MinMaxScaler(feature_range=(0, 1))\n",
    "\n",
    "X_scaled = scaler.fit_transform(X)"
   ]
  },
  {
   "cell_type": "code",
   "execution_count": 38,
   "metadata": {},
   "outputs": [],
   "source": [
    "# Split the data into train, validation, and test sets\n",
    "X_train, X_temp, y_train, y_temp = train_test_split(X_scaled, y, test_size=0.3, random_state=42)\n",
    "X_val, X_test, y_val, y_test = train_test_split(X_temp, y_temp, test_size=0.5, random_state=42)"
   ]
  },
  {
   "cell_type": "code",
   "execution_count": 39,
   "metadata": {},
   "outputs": [
    {
     "data": {
      "text/plain": [
       "['/Users/amalshar/Desktop/IIT/4th Year/FYP Implementation/Models/scaler.pkl']"
      ]
     },
     "execution_count": 39,
     "metadata": {},
     "output_type": "execute_result"
    }
   ],
   "source": [
    "# Dump the scaler object as pkl\n",
    "import joblib\n",
    "joblib.dump(scaler, '/Users/amalshar/Desktop/IIT/4th Year/FYP Implementation/Models/scaler.pkl')"
   ]
  },
  {
   "cell_type": "code",
   "execution_count": 40,
   "metadata": {},
   "outputs": [],
   "source": [
    "# Reshape input data for LSTM model (samples, time steps, features)\n",
    "X_train_reshaped = X_train.reshape((X_train.shape[0], 1, X_train.shape[1]))\n",
    "X_val_reshaped = X_val.reshape((X_val.shape[0], 1, X_val.shape[1]))\n",
    "X_test_reshaped = X_test.reshape((X_test.shape[0], 1, X_test.shape[1]))"
   ]
  },
  {
   "cell_type": "code",
   "execution_count": 41,
   "metadata": {},
   "outputs": [
    {
     "name": "stdout",
     "output_type": "stream",
     "text": [
      "X_train_reshaped shape: (14467, 1, 36)\n",
      "X_val_reshaped shape: (3100, 1, 36)\n",
      "X_test_reshaped shape: (3101, 1, 36)\n",
      "y_train shape: (14467,)\n",
      "y_val shape: (3100,)\n",
      "y_test shape: (3101,)\n"
     ]
    }
   ],
   "source": [
    "print(\"X_train_reshaped shape:\", X_train_reshaped.shape)\n",
    "print(\"X_val_reshaped shape:\", X_val_reshaped.shape)\n",
    "print(\"X_test_reshaped shape:\", X_test_reshaped.shape)\n",
    "print(\"y_train shape:\", y_train.shape)\n",
    "print(\"y_val shape:\", y_val.shape)\n",
    "print(\"y_test shape:\", y_test.shape)"
   ]
  },
  {
   "cell_type": "code",
   "execution_count": 42,
   "metadata": {},
   "outputs": [],
   "source": [
    "num_timesteps = 1  # number of timesteps in each input sequence\n",
    "num_features = 36  # number of features at each timestep"
   ]
  },
  {
   "cell_type": "code",
   "execution_count": 72,
   "metadata": {},
   "outputs": [
    {
     "name": "stderr",
     "output_type": "stream",
     "text": [
      "/var/folders/rx/gyp8p3vs42zfzk_hwhrnpcmw0000gn/T/ipykernel_12003/3923651474.py:5: DeprecationWarning: `import kerastuner` is deprecated, please use `import keras_tuner`.\n",
      "  from kerastuner import RandomSearch\n"
     ]
    }
   ],
   "source": [
    "import numpy as np\n",
    "from keras.models import Sequential\n",
    "from keras.layers import Dense\n",
    "from statsmodels.tsa.arima.model import ARIMA\n",
    "from kerastuner import RandomSearch\n"
   ]
  },
  {
   "cell_type": "code",
   "execution_count": 63,
   "metadata": {},
   "outputs": [],
   "source": [
    "# Define ARIMA model\n",
    "def arima_model(X_train, order=(1,1,1)):\n",
    "    model = ARIMA(X_train, order=order)\n",
    "    model_fit = model.fit()\n",
    "    return model_fit"
   ]
  },
  {
   "cell_type": "code",
   "execution_count": 64,
   "metadata": {},
   "outputs": [
    {
     "name": "stderr",
     "output_type": "stream",
     "text": [
      "/Users/amalshar/miniforge3/envs/tensorflow_env/lib/python3.11/site-packages/statsmodels/base/model.py:607: ConvergenceWarning: Maximum Likelihood optimization failed to converge. Check mle_retvals\n",
      "  warnings.warn(\"Maximum Likelihood optimization failed to \"\n",
      "/Users/amalshar/miniforge3/envs/tensorflow_env/lib/python3.11/site-packages/statsmodels/base/model.py:607: ConvergenceWarning: Maximum Likelihood optimization failed to converge. Check mle_retvals\n",
      "  warnings.warn(\"Maximum Likelihood optimization failed to \"\n",
      "/Users/amalshar/miniforge3/envs/tensorflow_env/lib/python3.11/site-packages/statsmodels/base/model.py:607: ConvergenceWarning: Maximum Likelihood optimization failed to converge. Check mle_retvals\n",
      "  warnings.warn(\"Maximum Likelihood optimization failed to \"\n",
      "/Users/amalshar/miniforge3/envs/tensorflow_env/lib/python3.11/site-packages/statsmodels/base/model.py:607: ConvergenceWarning: Maximum Likelihood optimization failed to converge. Check mle_retvals\n",
      "  warnings.warn(\"Maximum Likelihood optimization failed to \"\n"
     ]
    }
   ],
   "source": [
    "# Train ARIMA model\n",
    "arima_models = [arima_model(X_train_reshaped[:, 0, i]) for i in range(num_features)]"
   ]
  },
  {
   "cell_type": "code",
   "execution_count": 68,
   "metadata": {},
   "outputs": [],
   "source": [
    "# Get ARIMA predictions for each feature\n",
    "arima_preds_train = np.array([model.predict(start=0, end=len(X_train_reshaped)-1, dynamic=False) for model in arima_models]).T\n",
    "arima_preds_val = np.array([model.predict(start=len(X_train_reshaped), end=len(X_train_reshaped)+len(X_val_reshaped)-1, dynamic=False) for model in arima_models]).T"
   ]
  },
  {
   "cell_type": "code",
   "execution_count": 78,
   "metadata": {},
   "outputs": [],
   "source": [
    "# Define BPNN model\n",
    "def bpnn_model(hp):\n",
    "    bpnn_model = Sequential()\n",
    "    bpnn_model.add(Dense(units=hp.Int('units', min_value=32, max_value=512, step=32),\n",
    "                    activation='relu', input_dim=num_features*2))  # Adjusted input dimension\n",
    "    bpnn_model.add(Dense(1))\n",
    "    bpnn_model.compile(optimizer='adam', loss='mse')\n",
    "    return bpnn_model"
   ]
  },
  {
   "cell_type": "code",
   "execution_count": 79,
   "metadata": {},
   "outputs": [],
   "source": [
    "# Prepare data for BPNN\n",
    "X_train_bpnn = np.hstack((X_train_reshaped[:, 0, :], arima_preds_train))\n",
    "X_val_bpnn = np.hstack((X_val_reshaped[:, 0, :], arima_preds_val))"
   ]
  },
  {
   "cell_type": "code",
   "execution_count": 81,
   "metadata": {},
   "outputs": [
    {
     "name": "stderr",
     "output_type": "stream",
     "text": [
      "/Users/amalshar/miniforge3/envs/tensorflow_env/lib/python3.11/site-packages/keras/src/layers/core/dense.py:88: UserWarning: Do not pass an `input_shape`/`input_dim` argument to a layer. When using Sequential models, prefer using an `Input(shape)` object as the first layer in the model instead.\n",
      "  super().__init__(activity_regularizer=activity_regularizer, **kwargs)\n"
     ]
    }
   ],
   "source": [
    "# Hyperparameter tuning\n",
    "tuner = RandomSearch(\n",
    "    bpnn_model,\n",
    "    objective='val_loss',\n",
    "    max_trials=5,  # how many model configurations would you like to test\n",
    "    executions_per_trial=3,  # how many trials per variation? (same model could perform differently)\n",
    "    directory='fyp_logs',\n",
    "    project_name='bpnn'\n",
    ")"
   ]
  },
  {
   "cell_type": "code",
   "execution_count": 82,
   "metadata": {},
   "outputs": [
    {
     "name": "stdout",
     "output_type": "stream",
     "text": [
      "Search space summary\n",
      "Default search space size: 1\n",
      "units (Int)\n",
      "{'default': None, 'conditions': [], 'min_value': 32, 'max_value': 512, 'step': 32, 'sampling': 'linear'}\n"
     ]
    }
   ],
   "source": [
    "tuner.search_space_summary()"
   ]
  },
  {
   "cell_type": "code",
   "execution_count": 83,
   "metadata": {},
   "outputs": [
    {
     "name": "stdout",
     "output_type": "stream",
     "text": [
      "Trial 5 Complete [00h 07m 38s]\n",
      "val_loss: 151077.8125\n",
      "\n",
      "Best val_loss So Far: 96127.4453125\n",
      "Total elapsed time: 00h 38m 11s\n"
     ]
    }
   ],
   "source": [
    "tuner.search(X_train_bpnn, y_train, epochs=50, validation_data=(X_val_bpnn, y_val))"
   ]
  },
  {
   "cell_type": "code",
   "execution_count": null,
   "metadata": {},
   "outputs": [],
   "source": [
    "tuner.results_summary()"
   ]
  },
  {
   "cell_type": "code",
   "execution_count": null,
   "metadata": {},
   "outputs": [],
   "source": [
    "# Get the best model\n",
    "bpnn_model = tuner.get_best_models(num_models=1)[0]"
   ]
  },
  {
   "cell_type": "code",
   "execution_count": null,
   "metadata": {},
   "outputs": [],
   "source": []
  },
  {
   "cell_type": "code",
   "execution_count": null,
   "metadata": {},
   "outputs": [],
   "source": []
  },
  {
   "cell_type": "code",
   "execution_count": null,
   "metadata": {},
   "outputs": [],
   "source": [
    "import numpy as np\n",
    "from keras.models import Sequential\n",
    "from keras.layers import Dense\n",
    "from statsmodels.tsa.arima.model import ARIMA\n",
    "from kerastuner import RandomSearch\n",
    "\n",
    "# Define ARIMA model\n",
    "def train_arima_model(X_train, order=(1,1,1)):\n",
    "    model = ARIMA(X_train, order=order)\n",
    "    model_fit = model.fit(disp=0)\n",
    "    return model_fit\n",
    "\n",
    "# Train ARIMA model for each feature\n",
    "arima_models = [train_arima_model(X_train_reshaped[:, 0, i]) for i in range(num_features)]\n",
    "\n",
    "# Get ARIMA predictions for each feature\n",
    "arima_preds = np.array([model.predict(start=len(X_train_reshaped), end=len(X_train_reshaped)+len(X_val_reshaped)-1, dynamic=False) for model in arima_models]).T\n",
    "\n",
    "# Define BPNN model\n",
    "def build_model(hp):\n",
    "    model = Sequential()\n",
    "    model.add(Dense(units=hp.Int('units', min_value=32, max_value=512, step=32),\n",
    "                    activation='relu', input_dim=num_features))\n",
    "    model.add(Dense(1))\n",
    "    model.compile(optimizer='adam', loss='mse')\n",
    "    return model\n",
    "\n",
    "# Prepare data for BPNN\n",
    "X_train_bpnn = np.hstack((X_train_reshaped[:, 0, :], arima_preds))\n",
    "\n",
    "# Hyperparameter tuning\n",
    "tuner = RandomSearch(\n",
    "    build_model,\n",
    "    objective='val_loss',\n",
    "    max_trials=5,  # how many model configurations would you like to test\n",
    "    executions_per_trial=3,  # how many trials per variation? (same model could perform differently)\n",
    "    directory='random_search',\n",
    "    project_name='bpnn'\n",
    ")\n",
    "\n",
    "tuner.search_space_summary()\n",
    "\n",
    "tuner.search(X_train_bpnn, y_train, epochs=50, validation_data=(X_val_reshaped[:, 0, :], y_val))\n",
    "\n",
    "tuner.results_summary()\n",
    "\n",
    "# Get the best model\n",
    "bpnn_model = tuner.get_best_models(num_models=1)[0]\n",
    "\n",
    "# Use the models for prediction\n",
    "def hybrid_model_predict(arima_models, bpnn_model, X_test):\n",
    "    # Get ARIMA predictions\n",
    "    arima_preds = np.array([model.predict(start=len(X_train_reshaped), end=len(X_train_reshaped)+len(X_test_reshaped)-1, dynamic=False) for model in arima_models]).T\n",
    "    \n",
    "    # Prepare data for BPNN\n",
    "    X_test_bpnn = np.hstack((X_test_reshaped[:, 0, :], arima_preds))\n",
    "    \n",
    "    # Get BPNN predictions\n",
    "    bpnn_preds = bpnn_model.predict(X_test_bpnn)\n",
    "    \n",
    "    return bpnn_preds\n",
    "\n",
    "# Get predictions from the hybrid model\n",
    "hybrid_preds = hybrid_model_predict(arima_models, bpnn_model, X_test_reshaped)"
   ]
  },
  {
   "cell_type": "code",
   "execution_count": 50,
   "metadata": {},
   "outputs": [],
   "source": [
    "# Train ARIMA model\n",
    "arima_model = ARIMA(X_train[:, 0], order=(5,1,0))\n",
    "arima_model_fit = arima_model.fit()"
   ]
  },
  {
   "cell_type": "code",
   "execution_count": 51,
   "metadata": {},
   "outputs": [],
   "source": [
    "# Get ARIMA predictions\n",
    "arima_preds = arima_model_fit.predict(start=len(X_train), end=len(X_train)+len(X_val)-1, dynamic=False)"
   ]
  },
  {
   "cell_type": "code",
   "execution_count": 52,
   "metadata": {},
   "outputs": [],
   "source": [
    "# Define BPNN model\n",
    "def train_bpnn_model(X_train, y_train):\n",
    "    model = Sequential()\n",
    "    model.add(Dense(50, activation='relu', input_dim=X_train.shape[1]))\n",
    "    model.add(Dense(1))\n",
    "    model.compile(optimizer='adam', loss='mse')\n",
    "    model.fit(X_train, y_train, epochs=50, verbose=0)\n",
    "    return model"
   ]
  },
  {
   "cell_type": "code",
   "execution_count": 53,
   "metadata": {},
   "outputs": [
    {
     "ename": "ValueError",
     "evalue": "all the input array dimensions for the concatenation axis must match exactly, but along dimension 0, the array at index 0 has size 14467 and the array at index 1 has size 3100",
     "output_type": "error",
     "traceback": [
      "\u001b[0;31m---------------------------------------------------------------------------\u001b[0m",
      "\u001b[0;31mValueError\u001b[0m                                Traceback (most recent call last)",
      "Cell \u001b[0;32mIn[53], line 2\u001b[0m\n\u001b[1;32m      1\u001b[0m \u001b[38;5;66;03m# Prepare data for BPNN\u001b[39;00m\n\u001b[0;32m----> 2\u001b[0m X_train_bpnn \u001b[38;5;241m=\u001b[39m np\u001b[38;5;241m.\u001b[39mhstack((X_train, arima_preds\u001b[38;5;241m.\u001b[39mreshape(\u001b[38;5;241m-\u001b[39m\u001b[38;5;241m1\u001b[39m, \u001b[38;5;241m1\u001b[39m)))\n",
      "File \u001b[0;32m<__array_function__ internals>:180\u001b[0m, in \u001b[0;36mhstack\u001b[0;34m(*args, **kwargs)\u001b[0m\n",
      "File \u001b[0;32m~/miniforge3/envs/tensorflow_env/lib/python3.11/site-packages/numpy/core/shape_base.py:345\u001b[0m, in \u001b[0;36mhstack\u001b[0;34m(tup)\u001b[0m\n\u001b[1;32m    343\u001b[0m     \u001b[38;5;28;01mreturn\u001b[39;00m _nx\u001b[38;5;241m.\u001b[39mconcatenate(arrs, \u001b[38;5;241m0\u001b[39m)\n\u001b[1;32m    344\u001b[0m \u001b[38;5;28;01melse\u001b[39;00m:\n\u001b[0;32m--> 345\u001b[0m     \u001b[38;5;28;01mreturn\u001b[39;00m _nx\u001b[38;5;241m.\u001b[39mconcatenate(arrs, \u001b[38;5;241m1\u001b[39m)\n",
      "File \u001b[0;32m<__array_function__ internals>:180\u001b[0m, in \u001b[0;36mconcatenate\u001b[0;34m(*args, **kwargs)\u001b[0m\n",
      "\u001b[0;31mValueError\u001b[0m: all the input array dimensions for the concatenation axis must match exactly, but along dimension 0, the array at index 0 has size 14467 and the array at index 1 has size 3100"
     ]
    }
   ],
   "source": [
    "# Prepare data for BPNN\n",
    "X_train_bpnn = np.hstack((X_train, arima_preds.reshape(-1, 1)))"
   ]
  },
  {
   "cell_type": "code",
   "execution_count": null,
   "metadata": {},
   "outputs": [],
   "source": [
    "# Train BPNN model\n",
    "bpnn_model = train_bpnn_model(X_train_bpnn, y_train)"
   ]
  },
  {
   "cell_type": "code",
   "execution_count": null,
   "metadata": {},
   "outputs": [],
   "source": [
    "# Use the models for prediction\n",
    "def hybrid_model_predict(arima_model, bpnn_model, X_test):\n",
    "    # Get ARIMA predictions\n",
    "    arima_preds = arima_model.predict(start=len(X_train), end=len(X_train)+len(X_test)-1, dynamic=False)\n",
    "    \n",
    "    # Prepare data for BPNN\n",
    "    X_test_bpnn = np.hstack((X_test, arima_preds.reshape(-1, 1)))\n",
    "    \n",
    "    # Get BPNN predictions\n",
    "    bpnn_preds = bpnn_model.predict(X_test_bpnn)\n",
    "    \n",
    "    return bpnn_preds"
   ]
  },
  {
   "cell_type": "code",
   "execution_count": null,
   "metadata": {},
   "outputs": [],
   "source": [
    "# Get predictions from the hybrid model\n",
    "hybrid_preds = hybrid_model_predict(arima_model, bpnn_model, X_test)"
   ]
  },
  {
   "cell_type": "code",
   "execution_count": null,
   "metadata": {},
   "outputs": [],
   "source": []
  },
  {
   "cell_type": "code",
   "execution_count": null,
   "metadata": {},
   "outputs": [],
   "source": [
    "import numpy as np\n",
    "from keras.models import Sequential\n",
    "from keras.layers import Dense\n",
    "from statsmodels.tsa.arima.model import ARIMA\n",
    "\n",
    "# Define ARIMA model\n",
    "def train_arima_model(X_train, order=(1,1,1)):\n",
    "    model = ARIMA(X_train, order=order)\n",
    "    model_fit = model.fit(disp=0)\n",
    "    return model_fit\n",
    "\n",
    "# Train ARIMA model\n",
    "arima_model = train_arima_model(X_train)\n",
    "\n",
    "# Get ARIMA predictions\n",
    "arima_preds = arima_model.predict(start=len(X_train), end=len(X_train)+len(X_val)-1, dynamic=False)\n",
    "\n",
    "# Define BPNN model\n",
    "def train_bpnn_model(X_train, y_train):\n",
    "    model = Sequential()\n",
    "    model.add(Dense(50, activation='relu', input_dim=X_train.shape[1]))\n",
    "    model.add(Dense(1))\n",
    "    model.compile(optimizer='adam', loss='mse')\n",
    "    model.fit(X_train, y_train, epochs=50, verbose=0)\n",
    "    return model\n",
    "\n",
    "# Prepare data for BPNN\n",
    "X_train_bpnn = np.hstack((X_train, arima_preds.reshape(-1, 1)))\n",
    "\n",
    "# Train BPNN model\n",
    "bpnn_model = train_bpnn_model(X_train_bpnn, y_train)\n",
    "\n",
    "# Use the models for prediction\n",
    "def hybrid_model_predict(arima_model, bpnn_model, X_test):\n",
    "    # Get ARIMA predictions\n",
    "    arima_preds = arima_model.predict(start=len(X_train), end=len(X_train)+len(X_test)-1, dynamic=False)\n",
    "    \n",
    "    # Prepare data for BPNN\n",
    "    X_test_bpnn = np.hstack((X_test, arima_preds.reshape(-1, 1)))\n",
    "    \n",
    "    # Get BPNN predictions\n",
    "    bpnn_preds = bpnn_model.predict(X_test_bpnn)\n",
    "    \n",
    "    return bpnn_preds\n",
    "\n",
    "# Get predictions from the hybrid model\n",
    "hybrid_preds = hybrid_model_predict(arima_model, bpnn_model, X_test)\n"
   ]
  },
  {
   "cell_type": "code",
   "execution_count": null,
   "metadata": {},
   "outputs": [],
   "source": [
    "import numpy as np\n",
    "from keras.models import Sequential\n",
    "from keras.layers import Dense\n",
    "from statsmodels.tsa.arima.model import ARIMA\n",
    "from kerastuner import RandomSearch\n",
    "\n",
    "# Define ARIMA model\n",
    "def train_arima_model(X_train, order=(1,1,1)):\n",
    "    model = ARIMA(X_train, order=order)\n",
    "    model_fit = model.fit(disp=0)\n",
    "    return model_fit\n",
    "\n",
    "# Train ARIMA model\n",
    "arima_model = train_arima_model(X_train)\n",
    "\n",
    "# Get ARIMA predictions\n",
    "arima_preds = arima_model.predict(start=len(X_train), end=len(X_train)+len(X_val)-1, dynamic=False)\n",
    "\n",
    "# Define BPNN model\n",
    "def build_model(hp):\n",
    "    model = Sequential()\n",
    "    model.add(Dense(units=hp.Int('units', min_value=32, max_value=512, step=32),\n",
    "                    activation='relu', input_dim=X_train.shape[1]))\n",
    "    model.add(Dense(1))\n",
    "    model.compile(optimizer='adam', loss='mse')\n",
    "    return model\n",
    "\n",
    "# Prepare data for BPNN\n",
    "X_train_bpnn = np.hstack((X_train, arima_preds.reshape(-1, 1)))\n",
    "\n",
    "# Hyperparameter tuning\n",
    "tuner = RandomSearch(\n",
    "    build_model,\n",
    "    objective='val_loss',\n",
    "    max_trials=5,  # how many model configurations would you like to test\n",
    "    executions_per_trial=3,  # how many trials per variation? (same model could perform differently)\n",
    "    directory='random_search',\n",
    "    project_name='bpnn'\n",
    ")\n",
    "\n",
    "tuner.search_space_summary()\n",
    "\n",
    "tuner.search(X_train_bpnn, y_train, epochs=50, validation_data=(X_val, y_val))\n",
    "\n",
    "tuner.results_summary()\n",
    "\n",
    "# Get the best model\n",
    "bpnn_model = tuner.get_best_models(num_models=1)[0]\n",
    "\n",
    "# Use the models for prediction\n",
    "def hybrid_model_predict(arima_model, bpnn_model, X_test):\n",
    "    # Get ARIMA predictions\n",
    "    arima_preds = arima_model.predict(start=len(X_train), end=len(X_train)+len(X_test)-1, dynamic=False)\n",
    "    \n",
    "    # Prepare data for BPNN\n",
    "    X_test_bpnn = np.hstack((X_test, arima_preds.reshape(-1, 1)))\n",
    "    \n",
    "    # Get BPNN predictions\n",
    "    bpnn_preds = bpnn_model.predict(X_test_bpnn)\n",
    "    \n",
    "    return bpnn_preds\n",
    "\n",
    "# Get predictions from the hybrid model\n",
    "hybrid_preds = hybrid_model_predict(arima_model, bpnn_model, X_test)"
   ]
  }
 ],
 "metadata": {
  "kernelspec": {
   "display_name": "tensorflow_env",
   "language": "python",
   "name": "python3"
  },
  "language_info": {
   "codemirror_mode": {
    "name": "ipython",
    "version": 3
   },
   "file_extension": ".py",
   "mimetype": "text/x-python",
   "name": "python",
   "nbconvert_exporter": "python",
   "pygments_lexer": "ipython3",
   "version": "3.11.0"
  }
 },
 "nbformat": 4,
 "nbformat_minor": 2
}
